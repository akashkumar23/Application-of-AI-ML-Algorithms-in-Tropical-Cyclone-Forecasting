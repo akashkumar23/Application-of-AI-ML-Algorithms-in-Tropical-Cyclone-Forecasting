{
 "cells": [
  {
   "cell_type": "markdown",
   "id": "54123348-1695-41a9-9a95-121a45e3de0d",
   "metadata": {},
   "source": []
  },
  {
   "cell_type": "code",
   "execution_count": null,
   "id": "74fdb0ad-105c-4225-8bda-e8e92acc3b17",
   "metadata": {},
   "outputs": [],
   "source": [
    "import pandas as pd\n",
    "import numpy as np\n",
    "import matplotlib.pyplot as plt\n",
    "%matplotlib inline\n",
    "import matplotlib.image as mpimg\n",
    "import seaborn as sns\n",
    "\n",
    "from tensorflow import keras\n",
    "import tensorflow as tf\n",
    "from tensorflow.keras import Model,Input\n",
    "from tensorflow.keras.layers import Dense,Flatten\n",
    "\n",
    "from tensorflow.keras.callbacks import EarlyStopping\n",
    "from tensorflow.keras.preprocessing.image import ImageDataGenerator\n",
    "from tensorflow.keras.callbacks import LearningRateScheduler,ReduceLROnPlateau\n",
    "\n",
    "from tensorflow.keras import layers\n",
    "from tensorflow.keras.applications import MobileNetV2,EfficientNetB0,EfficientNetB4,Xception\n",
    "\n",
    "import warnings\n",
    "import glob\n",
    "warnings.filterwarnings(\"ignore\")"
   ]
  },
  {
   "cell_type": "code",
   "execution_count": null,
   "id": "c0e9e0ff-0e6b-469f-8925-c9088af9e3fe",
   "metadata": {},
   "outputs": [],
   "source": [
    "train = pd.read_csv(\"insat_3d_ds - Sheet.csv\")"
   ]
  },
  {
   "cell_type": "code",
   "execution_count": null,
   "id": "6329e355-1846-4515-b3ba-fee9331da797",
   "metadata": {},
   "outputs": [],
   "source": [
    "paths = glob.glob(\"CYCLONE_DATASET_INFRARED/*.jpg\")\n",
    "plt.figure(figsize=(20, 20))\n",
    "for i in range(28):\n",
    "    cur_img = mpimg.imread(paths[i]) \n",
    "    ax = plt.subplot(7, 7, i + 1)\n",
    "    plt.imshow(cur_img.astype(\"uint8\"))\n",
    "    plt.axis(\"off\")"
   ]
  },
  {
   "cell_type": "code",
   "execution_count": null,
   "id": "bb97f181-b60e-48a1-87c4-42338ea8a1ea",
   "metadata": {},
   "outputs": [],
   "source": [
    "paths = glob.glob(\"CYCLONE_DATASET/*.jpeg\")\n",
    "plt.figure(figsize=(20, 14))\n",
    "for i in range(4):\n",
    "    cur_img = mpimg.imread(paths[i]) \n",
    "    ax = plt.subplot(2, 2, i + 1)\n",
    "    plt.imshow(cur_img.astype(\"uint8\"))\n",
    "    plt.axis(\"off\")"
   ]
  },
  {
   "cell_type": "code",
   "execution_count": null,
   "id": "959f8079-7fa4-4c19-b93c-ef08c210f9d3",
   "metadata": {},
   "outputs": [],
   "source": [
    "train_datagen = ImageDataGenerator(rescale=1.0/255.0)"
   ]
  },
  {
   "cell_type": "code",
   "execution_count": null,
   "id": "a16298a8-00cf-474c-acf9-72733bf175fb",
   "metadata": {},
   "outputs": [],
   "source": [
    "train_data = train_datagen.flow_from_dataframe(train,directory=\"CYCLONE_DATASET_INFRARED\",subset=\"training\",\n",
    "                                               x_col=\"img_name\",y_col=\"label\",target_size=(512, 512),batch_size=16,class_mode='raw')\n",
    "\n",
    "#val_data = train_datagen.flow_from_dataframe(train,directory=\"../input/insat3d-infrared-raw-cyclone-images-20132021/insat3d_ir_cyclone_ds/CYCLONE_DATASET_INFRARED\",subset=\"validation\",\n",
    "#                                               x_col=\"img_name\",y_col=\"label\",target_size=(512, 512),batch_size=16,class_mode='raw')"
   ]
  },
  {
   "cell_type": "code",
   "execution_count": null,
   "id": "8592604f-11fd-40bf-85ca-74613125713b",
   "metadata": {},
   "outputs": [],
   "source": [
    "for image_batch, labels_batch in train_data:\n",
    "    print(image_batch.shape)\n",
    "    print(labels_batch.shape)\n",
    "    break"
   ]
  },
  {
   "cell_type": "code",
   "execution_count": null,
   "id": "98d98c02-37b5-4024-b602-a0cd8087800f",
   "metadata": {},
   "outputs": [],
   "source": [
    "def build_model():\n",
    "    base = tf.keras.applications.Xception(weights=\"imagenet\", include_top=False, input_tensor=Input(shape=(512, 512, 3)))\n",
    "\n",
    "    base.trainable = False\n",
    "\n",
    "    flatten = base.output\n",
    "    flatten = Flatten()(flatten)\n",
    "\n",
    "    bboxHead = Dense(64, activation=\"relu\")(flatten)\n",
    "    bboxHead = Dense(32, activation=\"relu\")(bboxHead)\n",
    "    bboxHead = Dense(1, activation=\"linear\")(bboxHead)\n",
    "\n",
    "    model = Model(inputs=base.input, outputs=bboxHead)\n",
    "    \n",
    "    return model"
   ]
  },
  {
   "cell_type": "code",
   "execution_count": null,
   "id": "bb44d1f8-e224-480c-844d-8a213c460788",
   "metadata": {},
   "outputs": [],
   "source": [
    "model = build_model()"
   ]
  },
  {
   "cell_type": "code",
   "execution_count": null,
   "id": "36a17a26-9d12-4906-a1f1-1d4141b5e45c",
   "metadata": {},
   "outputs": [],
   "source": [
    "model.compile(optimizer=tf.keras.optimizers.Adam(learning_rate=0.001), loss='mae', metrics=[tf.keras.metrics.RootMeanSquaredError()])\n",
    "\n",
    "save_best = tf.keras.callbacks.ModelCheckpoint(\"Model.keras\", monitor='loss',save_best_only=True, verbose=1)"
   ]
  },
  {
   "cell_type": "code",
   "execution_count": null,
   "id": "50fae0fb-2e5f-43c9-a8b0-d2f4c39e89f8",
   "metadata": {},
   "outputs": [],
   "source": [
    "model.fit(train_data, epochs=50, callbacks=[save_best])"
   ]
  }
 ],
 "metadata": {
  "kernelspec": {
   "display_name": "Python 3 (ipykernel)",
   "language": "python",
   "name": "python3"
  },
  "language_info": {
   "codemirror_mode": {
    "name": "ipython",
    "version": 3
   },
   "file_extension": ".py",
   "mimetype": "text/x-python",
   "name": "python",
   "nbconvert_exporter": "python",
   "pygments_lexer": "ipython3",
   "version": "3.11.10"
  }
 },
 "nbformat": 4,
 "nbformat_minor": 5
}
