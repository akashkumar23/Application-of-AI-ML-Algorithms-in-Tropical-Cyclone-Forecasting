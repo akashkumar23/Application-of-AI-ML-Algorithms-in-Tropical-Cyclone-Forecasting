{
 "cells": [
  {
   "cell_type": "code",
   "execution_count": 1,
   "id": "77b4931a-b0a6-4748-938a-fc703cc93e21",
   "metadata": {},
   "outputs": [],
   "source": [
    "import numpy as np\n",
    "import pandas as pd\n",
    "import matplotlib.pyplot as plt"
   ]
  },
  {
   "cell_type": "code",
   "execution_count": 2,
   "id": "bcd9a760-3068-4b29-87a9-2c258b437529",
   "metadata": {},
   "outputs": [
    {
     "data": {
      "text/html": [
       "<div>\n",
       "<style scoped>\n",
       "    .dataframe tbody tr th:only-of-type {\n",
       "        vertical-align: middle;\n",
       "    }\n",
       "\n",
       "    .dataframe tbody tr th {\n",
       "        vertical-align: top;\n",
       "    }\n",
       "\n",
       "    .dataframe thead th {\n",
       "        text-align: right;\n",
       "    }\n",
       "</style>\n",
       "<table border=\"1\" class=\"dataframe\">\n",
       "  <thead>\n",
       "    <tr style=\"text-align: right;\">\n",
       "      <th></th>\n",
       "      <th>International number ID</th>\n",
       "      <th>year</th>\n",
       "      <th>month</th>\n",
       "      <th>day</th>\n",
       "      <th>hour</th>\n",
       "      <th>grade</th>\n",
       "      <th>Latitude of the center</th>\n",
       "      <th>Longitude of the center</th>\n",
       "      <th>Central pressure</th>\n",
       "      <th>Maximum sustained wind speed</th>\n",
       "      <th>Direction of the longest radius of 50kt winds or greater</th>\n",
       "      <th>The longeast radius of 50kt winds or greater</th>\n",
       "      <th>The shortest radius of 50kt winds or greater</th>\n",
       "      <th>Direction of the longest radius of 30kt winds or greater</th>\n",
       "      <th>The longeast radius of 30kt winds or greater</th>\n",
       "      <th>The shortest radius of 30kt winds or greater</th>\n",
       "      <th>Indicator of landfall or passage</th>\n",
       "    </tr>\n",
       "  </thead>\n",
       "  <tbody>\n",
       "    <tr>\n",
       "      <th>0</th>\n",
       "      <td>5101</td>\n",
       "      <td>1951</td>\n",
       "      <td>2</td>\n",
       "      <td>19</td>\n",
       "      <td>6</td>\n",
       "      <td>Tropical Depression</td>\n",
       "      <td>200</td>\n",
       "      <td>1385</td>\n",
       "      <td>1010</td>\n",
       "      <td>NaN</td>\n",
       "      <td>NaN</td>\n",
       "      <td>NaN</td>\n",
       "      <td>NaN</td>\n",
       "      <td>NaN</td>\n",
       "      <td>NaN</td>\n",
       "      <td>NaN</td>\n",
       "      <td></td>\n",
       "    </tr>\n",
       "    <tr>\n",
       "      <th>1</th>\n",
       "      <td>5101</td>\n",
       "      <td>1951</td>\n",
       "      <td>2</td>\n",
       "      <td>19</td>\n",
       "      <td>12</td>\n",
       "      <td>Tropical Depression</td>\n",
       "      <td>200</td>\n",
       "      <td>1385</td>\n",
       "      <td>1010</td>\n",
       "      <td>NaN</td>\n",
       "      <td>NaN</td>\n",
       "      <td>NaN</td>\n",
       "      <td>NaN</td>\n",
       "      <td>NaN</td>\n",
       "      <td>NaN</td>\n",
       "      <td>NaN</td>\n",
       "      <td></td>\n",
       "    </tr>\n",
       "    <tr>\n",
       "      <th>2</th>\n",
       "      <td>5101</td>\n",
       "      <td>1951</td>\n",
       "      <td>2</td>\n",
       "      <td>19</td>\n",
       "      <td>18</td>\n",
       "      <td>Tropical Depression</td>\n",
       "      <td>230</td>\n",
       "      <td>1421</td>\n",
       "      <td>1000</td>\n",
       "      <td>NaN</td>\n",
       "      <td>NaN</td>\n",
       "      <td>NaN</td>\n",
       "      <td>NaN</td>\n",
       "      <td>NaN</td>\n",
       "      <td>NaN</td>\n",
       "      <td>NaN</td>\n",
       "      <td></td>\n",
       "    </tr>\n",
       "    <tr>\n",
       "      <th>3</th>\n",
       "      <td>5101</td>\n",
       "      <td>1951</td>\n",
       "      <td>2</td>\n",
       "      <td>20</td>\n",
       "      <td>0</td>\n",
       "      <td>Tropical Cyclone of TS intensity or higher</td>\n",
       "      <td>250</td>\n",
       "      <td>1460</td>\n",
       "      <td>994</td>\n",
       "      <td>NaN</td>\n",
       "      <td>NaN</td>\n",
       "      <td>NaN</td>\n",
       "      <td>NaN</td>\n",
       "      <td>NaN</td>\n",
       "      <td>NaN</td>\n",
       "      <td>NaN</td>\n",
       "      <td></td>\n",
       "    </tr>\n",
       "    <tr>\n",
       "      <th>4</th>\n",
       "      <td>5101</td>\n",
       "      <td>1951</td>\n",
       "      <td>2</td>\n",
       "      <td>20</td>\n",
       "      <td>6</td>\n",
       "      <td>Tropical Cyclone of TS intensity or higher</td>\n",
       "      <td>276</td>\n",
       "      <td>1506</td>\n",
       "      <td>994</td>\n",
       "      <td>NaN</td>\n",
       "      <td>NaN</td>\n",
       "      <td>NaN</td>\n",
       "      <td>NaN</td>\n",
       "      <td>NaN</td>\n",
       "      <td>NaN</td>\n",
       "      <td>NaN</td>\n",
       "      <td></td>\n",
       "    </tr>\n",
       "  </tbody>\n",
       "</table>\n",
       "</div>"
      ],
      "text/plain": [
       "   International number ID  year  month  day  hour  \\\n",
       "0                     5101  1951      2   19     6   \n",
       "1                     5101  1951      2   19    12   \n",
       "2                     5101  1951      2   19    18   \n",
       "3                     5101  1951      2   20     0   \n",
       "4                     5101  1951      2   20     6   \n",
       "\n",
       "                                        grade  Latitude of the center  \\\n",
       "0                         Tropical Depression                     200   \n",
       "1                         Tropical Depression                     200   \n",
       "2                         Tropical Depression                     230   \n",
       "3  Tropical Cyclone of TS intensity or higher                     250   \n",
       "4  Tropical Cyclone of TS intensity or higher                     276   \n",
       "\n",
       "   Longitude of the center  Central pressure  Maximum sustained wind speed  \\\n",
       "0                     1385              1010                           NaN   \n",
       "1                     1385              1010                           NaN   \n",
       "2                     1421              1000                           NaN   \n",
       "3                     1460               994                           NaN   \n",
       "4                     1506               994                           NaN   \n",
       "\n",
       "  Direction of the longest radius of 50kt winds or greater  \\\n",
       "0                                                NaN         \n",
       "1                                                NaN         \n",
       "2                                                NaN         \n",
       "3                                                NaN         \n",
       "4                                                NaN         \n",
       "\n",
       "   The longeast radius of 50kt winds or greater  \\\n",
       "0                                           NaN   \n",
       "1                                           NaN   \n",
       "2                                           NaN   \n",
       "3                                           NaN   \n",
       "4                                           NaN   \n",
       "\n",
       "   The shortest radius of 50kt winds or greater  \\\n",
       "0                                           NaN   \n",
       "1                                           NaN   \n",
       "2                                           NaN   \n",
       "3                                           NaN   \n",
       "4                                           NaN   \n",
       "\n",
       "  Direction of the longest radius of 30kt winds or greater  \\\n",
       "0                                                NaN         \n",
       "1                                                NaN         \n",
       "2                                                NaN         \n",
       "3                                                NaN         \n",
       "4                                                NaN         \n",
       "\n",
       "   The longeast radius of 30kt winds or greater  \\\n",
       "0                                           NaN   \n",
       "1                                           NaN   \n",
       "2                                           NaN   \n",
       "3                                           NaN   \n",
       "4                                           NaN   \n",
       "\n",
       "   The shortest radius of 30kt winds or greater  \\\n",
       "0                                           NaN   \n",
       "1                                           NaN   \n",
       "2                                           NaN   \n",
       "3                                           NaN   \n",
       "4                                           NaN   \n",
       "\n",
       "  Indicator of landfall or passage  \n",
       "0                                   \n",
       "1                                   \n",
       "2                                   \n",
       "3                                   \n",
       "4                                   "
      ]
     },
     "execution_count": 2,
     "metadata": {},
     "output_type": "execute_result"
    }
   ],
   "source": [
    "data = pd.read_csv(\"typhoon_data.csv\", index_col=0)\n",
    "data.head()"
   ]
  },
  {
   "cell_type": "code",
   "execution_count": 3,
   "id": "1faeec9e-24d3-4294-bec1-3752a0dd2990",
   "metadata": {},
   "outputs": [
    {
     "name": "stdout",
     "output_type": "stream",
     "text": [
      "Index(['International number ID', 'year', 'month', 'day', 'hour', 'grade',\n",
      "       'Latitude of the center', 'Longitude of the center', 'Central pressure',\n",
      "       'Maximum sustained wind speed',\n",
      "       'Direction of the longest radius of 50kt winds or greater',\n",
      "       'The longeast radius of 50kt winds or greater',\n",
      "       'The shortest radius of 50kt winds or greater',\n",
      "       'Direction of the longest radius of 30kt winds or greater',\n",
      "       'The longeast radius of 30kt winds or greater',\n",
      "       'The shortest radius of 30kt winds or greater',\n",
      "       'Indicator of landfall or passage'],\n",
      "      dtype='object')\n"
     ]
    }
   ],
   "source": [
    "# scale values and drops unnecessary columns\n",
    "data[\"Latitude of the center\"] /= 10\n",
    "data[\"Longitude of the center\"] /= 10\n",
    "print(data.columns)\n",
    "data = data.drop([\"Indicator of landfall or passage\"], axis=1)"
   ]
  },
  {
   "cell_type": "code",
   "execution_count": 4,
   "id": "430b7bde-164b-4316-9c58-2a8d7ec61ac0",
   "metadata": {},
   "outputs": [
    {
     "name": "stdout",
     "output_type": "stream",
     "text": [
      "<class 'pandas.core.frame.DataFrame'>\n",
      "Index: 43356 entries, 25268 to 68623\n",
      "Data columns (total 16 columns):\n",
      " #   Column                                                    Non-Null Count  Dtype  \n",
      "---  ------                                                    --------------  -----  \n",
      " 0   International number ID                                   43356 non-null  int64  \n",
      " 1   year                                                      43356 non-null  int64  \n",
      " 2   month                                                     43356 non-null  int64  \n",
      " 3   day                                                       43356 non-null  int64  \n",
      " 4   hour                                                      43356 non-null  int64  \n",
      " 5   grade                                                     43356 non-null  object \n",
      " 6   Latitude of the center                                    43356 non-null  float64\n",
      " 7   Longitude of the center                                   43356 non-null  float64\n",
      " 8   Central pressure                                          43356 non-null  int64  \n",
      " 9   Maximum sustained wind speed                              43356 non-null  float64\n",
      " 10  Direction of the longest radius of 50kt winds or greater  27208 non-null  object \n",
      " 11  The longeast radius of 50kt winds or greater              27208 non-null  float64\n",
      " 12  The shortest radius of 50kt winds or greater              27208 non-null  float64\n",
      " 13  Direction of the longest radius of 30kt winds or greater  27208 non-null  object \n",
      " 14  The longeast radius of 30kt winds or greater              27208 non-null  float64\n",
      " 15  The shortest radius of 30kt winds or greater              27208 non-null  float64\n",
      "dtypes: float64(7), int64(6), object(3)\n",
      "memory usage: 5.6+ MB\n"
     ]
    }
   ],
   "source": [
    "data = data[data[\"year\"] >= 1977]\n",
    "data.info()"
   ]
  },
  {
   "cell_type": "code",
   "execution_count": 5,
   "id": "d434e67a-ab04-4427-a2ef-d6c9ad793aab",
   "metadata": {},
   "outputs": [
    {
     "data": {
      "text/plain": [
       "(28, 16)"
      ]
     },
     "execution_count": 5,
     "metadata": {},
     "output_type": "execute_result"
    }
   ],
   "source": [
    "idx = data[\"grade\"]==\"Just entering into the responsible area of RSMC Tokyo-Typhoon Center\"\n",
    "data[idx].shape"
   ]
  },
  {
   "cell_type": "code",
   "execution_count": 6,
   "id": "488d10c7-7187-409d-89aa-b56305912607",
   "metadata": {},
   "outputs": [
    {
     "data": {
      "text/plain": [
       "(43328, 16)"
      ]
     },
     "execution_count": 6,
     "metadata": {},
     "output_type": "execute_result"
    }
   ],
   "source": [
    "data = data.drop(data[idx].index)\n",
    "data.shape"
   ]
  },
  {
   "cell_type": "code",
   "execution_count": 7,
   "id": "4ed1d941-96b1-49ce-beb0-4cde2cf291df",
   "metadata": {},
   "outputs": [
    {
     "data": {
      "text/plain": [
       "array(['Tropical Depression', 'Severe Tropical Storm', 'Tropical Storm',\n",
       "       'Extra-tropical Cyclone', 'Typhoon'], dtype=object)"
      ]
     },
     "execution_count": 7,
     "metadata": {},
     "output_type": "execute_result"
    }
   ],
   "source": [
    "data[\"grade\"].unique()"
   ]
  },
  {
   "cell_type": "code",
   "execution_count": 8,
   "id": "ba1f472e-09e3-49d8-b99d-dd58eb7081af",
   "metadata": {},
   "outputs": [],
   "source": [
    "data = data.replace(\"Tropical Depression\", \"TD\")\n",
    "data = data.replace(\"Severe Tropical Storm\", \"STS\")\n",
    "data = data.replace(\"Tropical Storm\", \"TS\")\n",
    "data = data.replace(\"Extra-tropical Cyclone\", \"L\")\n",
    "data = data.replace(\"Typhoon\", \"TY\")"
   ]
  },
  {
   "cell_type": "code",
   "execution_count": 9,
   "id": "31bdf9de-e096-4fbf-aefa-f440e210ff50",
   "metadata": {},
   "outputs": [
    {
     "data": {
      "text/plain": [
       "array(['STS', 'TS', 'TY'], dtype=object)"
      ]
     },
     "execution_count": 9,
     "metadata": {},
     "output_type": "execute_result"
    }
   ],
   "source": [
    "data[data[\"Direction of the longest radius of 50kt winds or greater\"].isna()][\"grade\"].unique()\n",
    "data[data[\"Direction of the longest radius of 50kt winds or greater\"].notna()][\"grade\"].unique()"
   ]
  },
  {
   "cell_type": "code",
   "execution_count": 10,
   "id": "6593c9f7-a354-4eaf-af82-ed1e3c395ec7",
   "metadata": {},
   "outputs": [],
   "source": [
    "data = data.dropna()"
   ]
  },
  {
   "cell_type": "code",
   "execution_count": 11,
   "id": "0edac852-65db-4f3b-be38-f6a5c5ef07c4",
   "metadata": {},
   "outputs": [],
   "source": [
    "data = data.drop([\"Direction of the longest radius of 50kt winds or greater\", \"Direction of the longest radius of 30kt winds or greater\"], axis=1)"
   ]
  },
  {
   "cell_type": "code",
   "execution_count": 12,
   "id": "84ac4af4-2392-40b3-8c64-eedeac2ad5e2",
   "metadata": {},
   "outputs": [],
   "source": [
    "grade_map = {\"TD\":1, \"TS\":2, \"STS\":3, \"TY\":4}  # I made grade map using the starndard for grade Tropical Depressions of WMO\n",
    "data[\"grade\"] = data[\"grade\"].map(grade_map)"
   ]
  },
  {
   "cell_type": "code",
   "execution_count": 13,
   "id": "ff3f4ff8-0017-4220-985f-d7cad2a0202c",
   "metadata": {},
   "outputs": [],
   "source": [
    "data = data[data[\"hour\"] % 6 == 0]"
   ]
  },
  {
   "cell_type": "code",
   "execution_count": 14,
   "id": "5993b35d-7ac9-480e-9705-80af336abd11",
   "metadata": {},
   "outputs": [
    {
     "data": {
      "text/html": [
       "<div>\n",
       "<style scoped>\n",
       "    .dataframe tbody tr th:only-of-type {\n",
       "        vertical-align: middle;\n",
       "    }\n",
       "\n",
       "    .dataframe tbody tr th {\n",
       "        vertical-align: top;\n",
       "    }\n",
       "\n",
       "    .dataframe thead th {\n",
       "        text-align: right;\n",
       "    }\n",
       "</style>\n",
       "<table border=\"1\" class=\"dataframe\">\n",
       "  <thead>\n",
       "    <tr style=\"text-align: right;\">\n",
       "      <th></th>\n",
       "      <th>International number ID</th>\n",
       "      <th>year</th>\n",
       "      <th>month</th>\n",
       "      <th>day</th>\n",
       "      <th>hour</th>\n",
       "      <th>grade</th>\n",
       "      <th>Latitude of the center</th>\n",
       "      <th>Longitude of the center</th>\n",
       "      <th>Central pressure</th>\n",
       "      <th>Maximum sustained wind speed</th>\n",
       "      <th>The longeast radius of 50kt winds or greater</th>\n",
       "      <th>The shortest radius of 50kt winds or greater</th>\n",
       "      <th>The longeast radius of 30kt winds or greater</th>\n",
       "      <th>The shortest radius of 30kt winds or greater</th>\n",
       "    </tr>\n",
       "  </thead>\n",
       "  <tbody>\n",
       "    <tr>\n",
       "      <th>25272</th>\n",
       "      <td>7701</td>\n",
       "      <td>1977</td>\n",
       "      <td>3</td>\n",
       "      <td>28</td>\n",
       "      <td>0</td>\n",
       "      <td>3</td>\n",
       "      <td>5.6</td>\n",
       "      <td>158.8</td>\n",
       "      <td>990</td>\n",
       "      <td>50.0</td>\n",
       "      <td>0.0</td>\n",
       "      <td>0.0</td>\n",
       "      <td>125.0</td>\n",
       "      <td>125.0</td>\n",
       "    </tr>\n",
       "    <tr>\n",
       "      <th>25273</th>\n",
       "      <td>7701</td>\n",
       "      <td>1977</td>\n",
       "      <td>3</td>\n",
       "      <td>28</td>\n",
       "      <td>6</td>\n",
       "      <td>3</td>\n",
       "      <td>6.1</td>\n",
       "      <td>158.2</td>\n",
       "      <td>996</td>\n",
       "      <td>50.0</td>\n",
       "      <td>0.0</td>\n",
       "      <td>0.0</td>\n",
       "      <td>125.0</td>\n",
       "      <td>125.0</td>\n",
       "    </tr>\n",
       "    <tr>\n",
       "      <th>25274</th>\n",
       "      <td>7701</td>\n",
       "      <td>1977</td>\n",
       "      <td>3</td>\n",
       "      <td>28</td>\n",
       "      <td>12</td>\n",
       "      <td>3</td>\n",
       "      <td>6.6</td>\n",
       "      <td>157.5</td>\n",
       "      <td>1000</td>\n",
       "      <td>50.0</td>\n",
       "      <td>0.0</td>\n",
       "      <td>0.0</td>\n",
       "      <td>125.0</td>\n",
       "      <td>125.0</td>\n",
       "    </tr>\n",
       "    <tr>\n",
       "      <th>25275</th>\n",
       "      <td>7701</td>\n",
       "      <td>1977</td>\n",
       "      <td>3</td>\n",
       "      <td>28</td>\n",
       "      <td>18</td>\n",
       "      <td>2</td>\n",
       "      <td>7.0</td>\n",
       "      <td>156.8</td>\n",
       "      <td>1002</td>\n",
       "      <td>45.0</td>\n",
       "      <td>0.0</td>\n",
       "      <td>0.0</td>\n",
       "      <td>100.0</td>\n",
       "      <td>100.0</td>\n",
       "    </tr>\n",
       "    <tr>\n",
       "      <th>25276</th>\n",
       "      <td>7701</td>\n",
       "      <td>1977</td>\n",
       "      <td>3</td>\n",
       "      <td>29</td>\n",
       "      <td>0</td>\n",
       "      <td>2</td>\n",
       "      <td>7.3</td>\n",
       "      <td>156.0</td>\n",
       "      <td>1002</td>\n",
       "      <td>45.0</td>\n",
       "      <td>0.0</td>\n",
       "      <td>0.0</td>\n",
       "      <td>100.0</td>\n",
       "      <td>100.0</td>\n",
       "    </tr>\n",
       "  </tbody>\n",
       "</table>\n",
       "</div>"
      ],
      "text/plain": [
       "       International number ID  year  month  day  hour  grade  \\\n",
       "25272                     7701  1977      3   28     0      3   \n",
       "25273                     7701  1977      3   28     6      3   \n",
       "25274                     7701  1977      3   28    12      3   \n",
       "25275                     7701  1977      3   28    18      2   \n",
       "25276                     7701  1977      3   29     0      2   \n",
       "\n",
       "       Latitude of the center  Longitude of the center  Central pressure  \\\n",
       "25272                     5.6                    158.8               990   \n",
       "25273                     6.1                    158.2               996   \n",
       "25274                     6.6                    157.5              1000   \n",
       "25275                     7.0                    156.8              1002   \n",
       "25276                     7.3                    156.0              1002   \n",
       "\n",
       "       Maximum sustained wind speed  \\\n",
       "25272                          50.0   \n",
       "25273                          50.0   \n",
       "25274                          50.0   \n",
       "25275                          45.0   \n",
       "25276                          45.0   \n",
       "\n",
       "       The longeast radius of 50kt winds or greater  \\\n",
       "25272                                           0.0   \n",
       "25273                                           0.0   \n",
       "25274                                           0.0   \n",
       "25275                                           0.0   \n",
       "25276                                           0.0   \n",
       "\n",
       "       The shortest radius of 50kt winds or greater  \\\n",
       "25272                                           0.0   \n",
       "25273                                           0.0   \n",
       "25274                                           0.0   \n",
       "25275                                           0.0   \n",
       "25276                                           0.0   \n",
       "\n",
       "       The longeast radius of 30kt winds or greater  \\\n",
       "25272                                         125.0   \n",
       "25273                                         125.0   \n",
       "25274                                         125.0   \n",
       "25275                                         100.0   \n",
       "25276                                         100.0   \n",
       "\n",
       "       The shortest radius of 30kt winds or greater  \n",
       "25272                                         125.0  \n",
       "25273                                         125.0  \n",
       "25274                                         125.0  \n",
       "25275                                         100.0  \n",
       "25276                                         100.0  "
      ]
     },
     "execution_count": 14,
     "metadata": {},
     "output_type": "execute_result"
    }
   ],
   "source": [
    "data.head()"
   ]
  },
  {
   "cell_type": "code",
   "execution_count": 15,
   "id": "2dbec63a-bfcd-4abf-9a05-d96a1536cea7",
   "metadata": {},
   "outputs": [
    {
     "name": "stdout",
     "output_type": "stream",
     "text": [
      "1174\n"
     ]
    }
   ],
   "source": [
    "ids = data[\"International number ID\"].unique() # Unique IDs of typhoons\n",
    "typhoons = list()\n",
    "for ID in ids:\n",
    "    typhoon = data[data[\"International number ID\"] == ID]\n",
    "    typhoon = typhoon.drop([\"International number ID\"], axis=1)\n",
    "    typhoons.append(typhoon)\n",
    "print(len(typhoons))"
   ]
  },
  {
   "cell_type": "code",
   "execution_count": 16,
   "id": "f0a4cc34-22ba-4d1d-9b2e-ce80aca80628",
   "metadata": {},
   "outputs": [
    {
     "data": {
      "image/png": "[encoded data removed]",
      "text/plain": [
       "<Figure size 640x480 with 1 Axes>"
      ]
     },
     "metadata": {},
     "output_type": "display_data"
    },
    {
     "name": "stdout",
     "output_type": "stream",
     "text": [
      "[200. 249. 286. 185. 133.  68.  38.  13.   0.   2.]\n"
     ]
    }
   ],
   "source": [
    "hist = data[\"International number ID\"].value_counts()\n",
    "n = plt.hist(hist)\n",
    "plt.show()\n",
    "print(n[0])"
   ]
  },
  {
   "cell_type": "code",
   "execution_count": 17,
   "id": "5070ab50-ac84-4c8a-80ad-a24f76a6800f",
   "metadata": {},
   "outputs": [
    {
     "name": "stdout",
     "output_type": "stream",
     "text": [
      "(20778, 3, 13)\n",
      "(297, 3, 13)\n"
     ]
    }
   ],
   "source": [
    "interval = 1\n",
    "dataset = np.empty((0, 3, 13))\n",
    "test_typhoons = np.empty((0,3,13))  # Preserve Some typhoons for model evaluation\n",
    "\n",
    "for typhoon in typhoons:\n",
    "    nptyphoon = np.array(typhoon)\n",
    "    for i in range(0, nptyphoon.shape[0]-3, interval):\n",
    "        single_data = nptyphoon[i:i+3]\n",
    "        single_data = np.expand_dims(single_data, axis=0)\n",
    "        if typhoon.iloc[0][\"year\"]==2022:\n",
    "            test_typhoons = np.append(test_typhoons, single_data, axis=0)\n",
    "            continue\n",
    "        dataset = np.append(dataset, single_data, axis=0)\n",
    "print(dataset.shape)  \n",
    "print(test_typhoons.shape)"
   ]
  },
  {
   "cell_type": "code",
   "execution_count": 20,
   "id": "50a9485c-1248-479c-9c44-799deade5a29",
   "metadata": {},
   "outputs": [
    {
     "name": "stdout",
     "output_type": "stream",
     "text": [
      "(14544, 2, 13)\n",
      "(14544, 8)\n",
      "(6234, 2, 13)\n",
      "(6234, 8)\n"
     ]
    }
   ],
   "source": [
    "# X, Y split\n",
    "x = dataset[:, :2, :]\n",
    "y = dataset[:, 2, 5:] # we don't predict year, month, day, hour, and grade\n",
    "\n",
    "# Train, Test split\n",
    "from sklearn.model_selection import train_test_split\n",
    "x_train, x_val, y_train, y_val = train_test_split(x, y, test_size=0.3, random_state=42, shuffle=True)\n",
    "print(x_train.shape)\n",
    "print(y_train.shape)\n",
    "print(x_val.shape)\n",
    "print(y_val.shape)"
   ]
  },
  {
   "cell_type": "code",
   "execution_count": 21,
   "id": "7f350ab6-529c-43d8-bc6e-138220393045",
   "metadata": {},
   "outputs": [],
   "source": [
    "# Flatten X data\n",
    "x_train = x_train.reshape(-1, 26)\n",
    "x_val = x_val.reshape(-1, 26)"
   ]
  },
  {
   "cell_type": "code",
   "execution_count": 22,
   "id": "92fee2d4-060a-46b3-9ab5-f57422957f8f",
   "metadata": {},
   "outputs": [],
   "source": [
    "from sklearn.preprocessing import StandardScaler\n",
    "scale = StandardScaler()\n",
    "\n",
    "x_train = scale.fit_transform(x_train)\n",
    "x_val = scale.transform(x_val)"
   ]
  },
  {
   "cell_type": "code",
   "execution_count": 23,
   "id": "22997587-0d1c-4fc1-978c-43ea5a7cd270",
   "metadata": {},
   "outputs": [
    {
     "name": "stdout",
     "output_type": "stream",
     "text": [
      "Training Score: 10.686176285554538\n",
      "Test Score: 10.784543398309964\n"
     ]
    },
    {
     "name": "stderr",
     "output_type": "stream",
     "text": [
      "C:\\Users\\romeo\\AppData\\Local\\Programs\\Python\\Python311\\Lib\\site-packages\\sklearn\\metrics\\_regression.py:492: FutureWarning: 'squared' is deprecated in version 1.4 and will be removed in 1.6. To calculate the root mean squared error, use the function'root_mean_squared_error'.\n",
      "  warnings.warn(\n",
      "C:\\Users\\romeo\\AppData\\Local\\Programs\\Python\\Python311\\Lib\\site-packages\\sklearn\\metrics\\_regression.py:492: FutureWarning: 'squared' is deprecated in version 1.4 and will be removed in 1.6. To calculate the root mean squared error, use the function'root_mean_squared_error'.\n",
      "  warnings.warn(\n"
     ]
    }
   ],
   "source": [
    "from sklearn.linear_model import LinearRegression\n",
    "from sklearn.metrics import mean_squared_error\n",
    "lr = LinearRegression()\n",
    "lr.fit(x_train, y_train)\n",
    "pred = lr.predict(x_train)\n",
    "rmse = mean_squared_error(pred, y_train, squared=False)\n",
    "\n",
    "print(\"Training Score:\", rmse)\n",
    "\n",
    "pred = lr.predict(x_val)\n",
    "rmse = mean_squared_error(pred, y_val, squared=False)\n",
    "print(\"Test Score:\", rmse)"
   ]
  },
  {
   "cell_type": "code",
   "execution_count": 24,
   "id": "431e420d-8ace-44f4-b562-7476f587c522",
   "metadata": {},
   "outputs": [
    {
     "name": "stdout",
     "output_type": "stream",
     "text": [
      "Training Score: 4.655965608421148\n",
      "Test Score: 12.517143272553808\n"
     ]
    },
    {
     "name": "stderr",
     "output_type": "stream",
     "text": [
      "C:\\Users\\romeo\\AppData\\Local\\Programs\\Python\\Python311\\Lib\\site-packages\\sklearn\\metrics\\_regression.py:492: FutureWarning: 'squared' is deprecated in version 1.4 and will be removed in 1.6. To calculate the root mean squared error, use the function'root_mean_squared_error'.\n",
      "  warnings.warn(\n",
      "C:\\Users\\romeo\\AppData\\Local\\Programs\\Python\\Python311\\Lib\\site-packages\\sklearn\\metrics\\_regression.py:492: FutureWarning: 'squared' is deprecated in version 1.4 and will be removed in 1.6. To calculate the root mean squared error, use the function'root_mean_squared_error'.\n",
      "  warnings.warn(\n"
     ]
    }
   ],
   "source": [
    "from sklearn.ensemble import RandomForestRegressor\n",
    "rf = RandomForestRegressor(random_state=42)\n",
    "rf.fit(x_train, y_train)\n",
    "pred = rf.predict(x_train)\n",
    "rmse = mean_squared_error(pred, y_train, squared=False)\n",
    "\n",
    "print(\"Training Score:\", rmse)\n",
    "\n",
    "pred = rf.predict(x_val)\n",
    "rmse = mean_squared_error(pred, y_val, squared=False)\n",
    "print(\"Test Score:\", rmse)"
   ]
  },
  {
   "cell_type": "code",
   "execution_count": 25,
   "id": "81f996c7-8ec2-454b-8de6-79afcb8e8411",
   "metadata": {},
   "outputs": [],
   "source": [
    "import torch\n",
    "from torch import nn\n",
    "import random\n",
    "\n",
    "random.seed(42)\n",
    "torch.manual_seed(42)\n",
    "\n",
    "x_train_t = torch.tensor(x_train, dtype=torch.float)\n",
    "x_val_t = torch.tensor(x_val, dtype=torch.float)\n",
    "y_train_t = torch.tensor(y_train, dtype=torch.float)\n",
    "y_val_t = torch.tensor(y_val, dtype=torch.float)"
   ]
  },
  {
   "cell_type": "code",
   "execution_count": 27,
   "id": "8734ac5c-fdec-4ea1-8981-ef7ec6c82db0",
   "metadata": {},
   "outputs": [
    {
     "name": "stdout",
     "output_type": "stream",
     "text": [
      "hello\n"
     ]
    }
   ],
   "source": [
    "batch_size=100\n",
    "training_epochs=15\n",
    "learning_rate=0.001\n",
    "print('hello')"
   ]
  },
  {
   "cell_type": "code",
   "execution_count": 28,
   "id": "460767a1-afe0-4bc7-ac89-1f4a45eae396",
   "metadata": {},
   "outputs": [],
   "source": [
    "data_loader = torch.utils.data.DataLoader(dataset=torch.utils.data.TensorDataset(x_train_t, y_train_t),\n",
    "                          batch_size=batch_size,\n",
    "                          shuffle=True,\n",
    "                          drop_last=True)"
   ]
  },
  {
   "cell_type": "code",
   "execution_count": 29,
   "id": "5f5cb46d-69c2-4fac-9402-251f781710eb",
   "metadata": {},
   "outputs": [],
   "source": [
    "model = nn.Sequential(nn.Linear(x_train_t.shape[1], 10),\n",
    "                      nn.ReLU(inplace=True),\n",
    "                      nn.Linear(10, y_train_t.shape[1]))"
   ]
  },
  {
   "cell_type": "code",
   "execution_count": 30,
   "id": "70bf127d-b357-4c5d-a278-3444a5a3edd7",
   "metadata": {},
   "outputs": [],
   "source": [
    "criterion = nn.MSELoss()\n",
    "optimizer = torch.optim.SGD(model.parameters(), lr=learning_rate)"
   ]
  },
  {
   "cell_type": "code",
   "execution_count": 31,
   "id": "ea50a92f-e6c1-4371-a5ec-6379581595f6",
   "metadata": {},
   "outputs": [
    {
     "name": "stdout",
     "output_type": "stream",
     "text": [
      "Epoch: 1 cost: 17121.82421875\n",
      "Epoch: 2 cost: 723.2616577148438\n",
      "Epoch: 3 cost: 588.4092407226562\n",
      "Epoch: 4 cost: 510.1869201660156\n",
      "Epoch: 5 cost: 483.1559753417969\n",
      "Epoch: 6 cost: 448.8943786621094\n",
      "Epoch: 7 cost: 398.9339294433594\n",
      "Epoch: 8 cost: 348.38623046875\n",
      "Epoch: 9 cost: 319.56317138671875\n",
      "Epoch: 10 cost: 313.05914306640625\n",
      "Epoch: 11 cost: 283.6858825683594\n",
      "Epoch: 12 cost: 270.1799011230469\n",
      "Epoch: 13 cost: 257.8015441894531\n",
      "Epoch: 14 cost: 256.32427978515625\n",
      "Epoch: 15 cost: 247.3799591064453\n"
     ]
    }
   ],
   "source": [
    "for epoch in range(1, training_epochs+1):\n",
    "    avg_cost = 0\n",
    "    total_batch = len(data_loader)\n",
    "    \n",
    "    for x_batch, y_batch in data_loader:\n",
    "        optimizer.zero_grad()\n",
    "        hypothesis = model(x_batch)\n",
    "        cost = criterion(hypothesis, y_batch)\n",
    "        cost.backward()\n",
    "        optimizer.step()\n",
    "        \n",
    "        avg_cost += cost\n",
    "    avg_cost /= total_batch\n",
    "    if epoch%10 == 0 or True:\n",
    "        print(\"Epoch:\", epoch, \"cost:\", avg_cost.item())"
   ]
  },
  {
   "cell_type": "code",
   "execution_count": 32,
   "id": "1bf87073-212e-493c-88f8-4f9e0e971a40",
   "metadata": {},
   "outputs": [
    {
     "name": "stdout",
     "output_type": "stream",
     "text": [
      "Test Score: 13.409940691638297\n"
     ]
    },
    {
     "name": "stderr",
     "output_type": "stream",
     "text": [
      "C:\\Users\\romeo\\AppData\\Local\\Programs\\Python\\Python311\\Lib\\site-packages\\sklearn\\metrics\\_regression.py:492: FutureWarning: 'squared' is deprecated in version 1.4 and will be removed in 1.6. To calculate the root mean squared error, use the function'root_mean_squared_error'.\n",
      "  warnings.warn(\n"
     ]
    }
   ],
   "source": [
    "model.eval()\n",
    "with torch.no_grad():\n",
    "    pred = model(x_val_t)\n",
    "\n",
    "rmse = mean_squared_error(pred, y_val, squared=False)\n",
    "print(\"Test Score:\", rmse)"
   ]
  },
  {
   "cell_type": "code",
   "execution_count": 33,
   "id": "324a5941-a6e0-43ff-b195-4d26f3b74852",
   "metadata": {},
   "outputs": [],
   "source": [
    "x_test = test_typhoons[:, :2, :]\n",
    "y_test = test_typhoons[:, 2, 5:] # we don't predict year, month, day, hour, and grade\n",
    "# Flatten X data\n",
    "x_test = x_test.reshape(-1, 26)\n",
    "x_test = scale.transform(x_test)"
   ]
  },
  {
   "cell_type": "code",
   "execution_count": 34,
   "id": "dcb90b12-bd95-4711-b4ec-26749bc1b14e",
   "metadata": {},
   "outputs": [
    {
     "name": "stdout",
     "output_type": "stream",
     "text": [
      "Test Score: 9.529680801952257\n"
     ]
    },
    {
     "name": "stderr",
     "output_type": "stream",
     "text": [
      "C:\\Users\\romeo\\AppData\\Local\\Programs\\Python\\Python311\\Lib\\site-packages\\sklearn\\metrics\\_regression.py:492: FutureWarning: 'squared' is deprecated in version 1.4 and will be removed in 1.6. To calculate the root mean squared error, use the function'root_mean_squared_error'.\n",
      "  warnings.warn(\n"
     ]
    }
   ],
   "source": [
    "lr_pred = lr.predict(x_test)  # Linear Regression\n",
    "rmse = mean_squared_error(lr_pred, y_test, squared=False)\n",
    "print(\"Test Score:\", rmse)"
   ]
  },
  {
   "cell_type": "code",
   "execution_count": 35,
   "id": "b437e34e-f89c-4f25-b9da-032e4262cb5c",
   "metadata": {},
   "outputs": [
    {
     "name": "stdout",
     "output_type": "stream",
     "text": [
      "Test Score: 13.334438212410182\n"
     ]
    },
    {
     "name": "stderr",
     "output_type": "stream",
     "text": [
      "C:\\Users\\romeo\\AppData\\Local\\Programs\\Python\\Python311\\Lib\\site-packages\\sklearn\\metrics\\_regression.py:492: FutureWarning: 'squared' is deprecated in version 1.4 and will be removed in 1.6. To calculate the root mean squared error, use the function'root_mean_squared_error'.\n",
      "  warnings.warn(\n"
     ]
    }
   ],
   "source": [
    "rf_pred = rf.predict(x_test)  # Random Forest\n",
    "rmse = mean_squared_error(rf_pred, y_test, squared=False)\n",
    "print(\"Test Score:\", rmse)"
   ]
  },
  {
   "cell_type": "code",
   "execution_count": 36,
   "id": "a2d8fc85-a15c-495f-bd1f-5f9e0e3e746a",
   "metadata": {},
   "outputs": [
    {
     "name": "stdout",
     "output_type": "stream",
     "text": [
      "Test Score: 11.95928314608026\n"
     ]
    },
    {
     "name": "stderr",
     "output_type": "stream",
     "text": [
      "C:\\Users\\romeo\\AppData\\Local\\Programs\\Python\\Python311\\Lib\\site-packages\\sklearn\\metrics\\_regression.py:492: FutureWarning: 'squared' is deprecated in version 1.4 and will be removed in 1.6. To calculate the root mean squared error, use the function'root_mean_squared_error'.\n",
      "  warnings.warn(\n"
     ]
    }
   ],
   "source": [
    "x_test_t = torch.tensor(x_test, dtype=torch.float)\n",
    "with torch.no_grad():\n",
    "    dl_pred = model(x_test_t)  # MLP\n",
    "\n",
    "rmse = mean_squared_error(dl_pred, y_test, squared=False)\n",
    "print(\"Test Score:\", rmse)"
   ]
  },
  {
   "cell_type": "code",
   "execution_count": 37,
   "id": "31057243-d5ec-4e1b-b395-2aefda9af518",
   "metadata": {},
   "outputs": [
    {
     "name": "stdout",
     "output_type": "stream",
     "text": [
      "(2, 13)\n",
      "[[2022.0, 7.0, 29.0, 12.0, 2.0, 30.1, 129.9, 1000.0, 40.0, 0.0, 0.0, 240.0, 150.0], [2022.0, 7.0, 29.0, 18.0, 2.0, 30.7, 128.5, 1000.0, 35.0, 7.105427357601002e-15, -7.105427357601002e-15, 240.0, 150.0]]\n"
     ]
    }
   ],
   "source": [
    "idx = random.randint(0, len(x_test))\n",
    "x_sample = scale.inverse_transform(x_test[idx].reshape(1, -1))\n",
    "x_sample = x_sample.reshape(2, -1)\n",
    "print(x_sample.shape)\n",
    "print(x_sample.tolist())"
   ]
  },
  {
   "cell_type": "code",
   "execution_count": 38,
   "id": "235fe471-327f-4fd0-9881-df37abe7e96e",
   "metadata": {},
   "outputs": [
    {
     "name": "stderr",
     "output_type": "stream",
     "text": [
      "C:\\Users\\romeo\\AppData\\Local\\Temp\\ipykernel_18292\\1659103073.py:4: DeprecationWarning: __array__ implementation doesn't accept a copy keyword, so passing copy=False failed. __array__ must implement 'dtype' and 'copy' keyword arguments.\n",
      "  dl_pred_sample = np.array(dl_pred[idx])\n"
     ]
    }
   ],
   "source": [
    "y_sample = y_test[idx]\n",
    "lr_pred_sample = np.array(lr_pred[idx])\n",
    "rf_pred_sample = np.array(rf_pred[idx])\n",
    "dl_pred_sample = np.array(dl_pred[idx])\n",
    "# print(y_sample)\n",
    "# print(pred_sample)\n",
    "# print(y_sample - pred_sample)"
   ]
  },
  {
   "cell_type": "code",
   "execution_count": 41,
   "id": "1f308363-dd80-4fd4-8789-78b3e99edf2f",
   "metadata": {},
   "outputs": [
    {
     "data": {
      "text/html": [
       "<div style=\"width:100%;\"><div style=\"position:relative;width:100%;height:0;padding-bottom:60%;\"><span style=\"color:#565656\">Make this Notebook Trusted to load map: File -> Trust Notebook</span><iframe srcdoc=\"&lt;!DOCTYPE html&gt;\n",
       "&lt;html&gt;\n",
       "&lt;head&gt;\n",
       "    \n",
       "    &lt;meta http-equiv=&quot;content-type&quot; content=&quot;text/html; charset=UTF-8&quot; /&gt;\n",
       "    \n",
       "        &lt;script&gt;\n",
       "            L_NO_TOUCH = false;\n",
       "            L_DISABLE_3D = false;\n",
       "        &lt;/script&gt;\n",
       "    \n",
       "    &lt;style&gt;html, body {width: 100%;height: 100%;margin: 0;padding: 0;}&lt;/style&gt;\n",
       "    &lt;style&gt;#map {position:absolute;top:0;bottom:0;right:0;left:0;}&lt;/style&gt;\n",
       "    &lt;script src=&quot;https://cdn.jsdelivr.net/npm/leaflet@1.9.3/dist/leaflet.js&quot;&gt;&lt;/script&gt;\n",
       "    &lt;script src=&quot;https://code.jquery.com/jquery-3.7.1.min.js&quot;&gt;&lt;/script&gt;\n",
       "    &lt;script src=&quot;https://cdn.jsdelivr.net/npm/bootstrap@5.2.2/dist/js/bootstrap.bundle.min.js&quot;&gt;&lt;/script&gt;\n",
       "    &lt;script src=&quot;https://cdnjs.cloudflare.com/ajax/libs/Leaflet.awesome-markers/2.0.2/leaflet.awesome-markers.js&quot;&gt;&lt;/script&gt;\n",
       "    &lt;link rel=&quot;stylesheet&quot; href=&quot;https://cdn.jsdelivr.net/npm/leaflet@1.9.3/dist/leaflet.css&quot;/&gt;\n",
       "    &lt;link rel=&quot;stylesheet&quot; href=&quot;https://cdn.jsdelivr.net/npm/bootstrap@5.2.2/dist/css/bootstrap.min.css&quot;/&gt;\n",
       "    &lt;link rel=&quot;stylesheet&quot; href=&quot;https://netdna.bootstrapcdn.com/bootstrap/3.0.0/css/bootstrap-glyphicons.css&quot;/&gt;\n",
       "    &lt;link rel=&quot;stylesheet&quot; href=&quot;https://cdn.jsdelivr.net/npm/@fortawesome/fontawesome-free@6.2.0/css/all.min.css&quot;/&gt;\n",
       "    &lt;link rel=&quot;stylesheet&quot; href=&quot;https://cdnjs.cloudflare.com/ajax/libs/Leaflet.awesome-markers/2.0.2/leaflet.awesome-markers.css&quot;/&gt;\n",
       "    &lt;link rel=&quot;stylesheet&quot; href=&quot;https://cdn.jsdelivr.net/gh/python-visualization/folium/folium/templates/leaflet.awesome.rotate.min.css&quot;/&gt;\n",
       "    \n",
       "            &lt;meta name=&quot;viewport&quot; content=&quot;width=device-width,\n",
       "                initial-scale=1.0, maximum-scale=1.0, user-scalable=no&quot; /&gt;\n",
       "            &lt;style&gt;\n",
       "                #map_461d3e80a119c3410e8eac7b8d20a58e {\n",
       "                    position: relative;\n",
       "                    width: 600.0px;\n",
       "                    height: 600.0px;\n",
       "                    left: 0.0%;\n",
       "                    top: 0.0%;\n",
       "                }\n",
       "                .leaflet-container { font-size: 1rem; }\n",
       "            &lt;/style&gt;\n",
       "        \n",
       "&lt;/head&gt;\n",
       "&lt;body&gt;\n",
       "    \n",
       "    \n",
       "            &lt;div class=&quot;folium-map&quot; id=&quot;map_461d3e80a119c3410e8eac7b8d20a58e&quot; &gt;&lt;/div&gt;\n",
       "        \n",
       "&lt;/body&gt;\n",
       "&lt;script&gt;\n",
       "    \n",
       "    \n",
       "            var map_461d3e80a119c3410e8eac7b8d20a58e = L.map(\n",
       "                &quot;map_461d3e80a119c3410e8eac7b8d20a58e&quot;,\n",
       "                {\n",
       "                    center: [30.1, 129.9],\n",
       "                    crs: L.CRS.EPSG3857,\n",
       "                    zoom: 5,\n",
       "                    zoomControl: true,\n",
       "                    preferCanvas: false,\n",
       "                }\n",
       "            );\n",
       "\n",
       "            \n",
       "\n",
       "        \n",
       "    \n",
       "            var tile_layer_036f4e771abe3013804c91ed520967c1 = L.tileLayer(\n",
       "                &quot;https://tile.openstreetmap.org/{z}/{x}/{y}.png&quot;,\n",
       "                {&quot;attribution&quot;: &quot;\\u0026copy; \\u003ca href=\\&quot;https://www.openstreetmap.org/copyright\\&quot;\\u003eOpenStreetMap\\u003c/a\\u003e contributors&quot;, &quot;detectRetina&quot;: false, &quot;maxNativeZoom&quot;: 19, &quot;maxZoom&quot;: 19, &quot;minZoom&quot;: 0, &quot;noWrap&quot;: false, &quot;opacity&quot;: 1, &quot;subdomains&quot;: &quot;abc&quot;, &quot;tms&quot;: false}\n",
       "            );\n",
       "        \n",
       "    \n",
       "            tile_layer_036f4e771abe3013804c91ed520967c1.addTo(map_461d3e80a119c3410e8eac7b8d20a58e);\n",
       "        \n",
       "    \n",
       "            var circle_41a41e8484efbd3777f21b09530f11e4 = L.circle(\n",
       "                [31.4, 126.2],\n",
       "                {&quot;bubblingMouseEvents&quot;: true, &quot;color&quot;: &quot;purple&quot;, &quot;dashArray&quot;: null, &quot;dashOffset&quot;: null, &quot;fill&quot;: true, &quot;fillColor&quot;: &quot;orange&quot;, &quot;fillOpacity&quot;: 0.2, &quot;fillRule&quot;: &quot;evenodd&quot;, &quot;lineCap&quot;: &quot;round&quot;, &quot;lineJoin&quot;: &quot;round&quot;, &quot;opacity&quot;: 1.0, &quot;radius&quot;: 333360.0, &quot;stroke&quot;: true, &quot;weight&quot;: 3}\n",
       "            ).addTo(map_461d3e80a119c3410e8eac7b8d20a58e);\n",
       "        \n",
       "    \n",
       "            var circle_e9555361d12f8826c4fd940629302e83 = L.circle(\n",
       "                [31.293639240959987, 127.33282806254243],\n",
       "                {&quot;bubblingMouseEvents&quot;: true, &quot;color&quot;: &quot;blue&quot;, &quot;dashArray&quot;: null, &quot;dashOffset&quot;: null, &quot;fill&quot;: true, &quot;fillColor&quot;: &quot;red&quot;, &quot;fillOpacity&quot;: 0.2, &quot;fillRule&quot;: &quot;evenodd&quot;, &quot;lineCap&quot;: &quot;round&quot;, &quot;lineJoin&quot;: &quot;round&quot;, &quot;opacity&quot;: 1.0, &quot;radius&quot;: 434627.23051885265, &quot;stroke&quot;: true, &quot;weight&quot;: 3}\n",
       "            ).addTo(map_461d3e80a119c3410e8eac7b8d20a58e);\n",
       "        \n",
       "    \n",
       "            var circle_dd350e0d53fe6490ece9d2290ef20f8b = L.circle(\n",
       "                [24.201999999999995, 127.25599999999999],\n",
       "                {&quot;bubblingMouseEvents&quot;: true, &quot;color&quot;: &quot;green&quot;, &quot;dashArray&quot;: null, &quot;dashOffset&quot;: null, &quot;fill&quot;: true, &quot;fillColor&quot;: &quot;red&quot;, &quot;fillOpacity&quot;: 0.2, &quot;fillRule&quot;: &quot;evenodd&quot;, &quot;lineCap&quot;: &quot;round&quot;, &quot;lineJoin&quot;: &quot;round&quot;, &quot;opacity&quot;: 1.0, &quot;radius&quot;: 451147.2, &quot;stroke&quot;: true, &quot;weight&quot;: 3}\n",
       "            ).addTo(map_461d3e80a119c3410e8eac7b8d20a58e);\n",
       "        \n",
       "    \n",
       "            var circle_376cc2cf1978bb87cc11a1106dc7011a = L.circle(\n",
       "                [27.387027740478516, 130.60250854492188],\n",
       "                {&quot;bubblingMouseEvents&quot;: true, &quot;color&quot;: &quot;black&quot;, &quot;dashArray&quot;: null, &quot;dashOffset&quot;: null, &quot;fill&quot;: true, &quot;fillColor&quot;: &quot;red&quot;, &quot;fillOpacity&quot;: 0.2, &quot;fillRule&quot;: &quot;evenodd&quot;, &quot;lineCap&quot;: &quot;round&quot;, &quot;lineJoin&quot;: &quot;round&quot;, &quot;opacity&quot;: 1.0, &quot;radius&quot;: 435572.3649291992, &quot;stroke&quot;: true, &quot;weight&quot;: 3}\n",
       "            ).addTo(map_461d3e80a119c3410e8eac7b8d20a58e);\n",
       "        \n",
       "&lt;/script&gt;\n",
       "&lt;/html&gt;\" style=\"position:absolute;width:100%;height:100%;left:0;top:0;border:none !important;\" allowfullscreen webkitallowfullscreen mozallowfullscreen></iframe></div></div>"
      ],
      "text/plain": [
       "<folium.folium.Map at 0x2491cafd590>"
      ]
     },
     "execution_count": 41,
     "metadata": {},
     "output_type": "execute_result"
    }
   ],
   "source": [
    "import folium\n",
    "\n",
    "import numpy as np\n",
    "\n",
    "# Convert to float64\n",
    "x_sample = np.array(x_sample, dtype=np.float64)\n",
    "y_sample = np.array(y_sample, dtype=np.float64)\n",
    "lr_pred_sample = np.array(lr_pred_sample, dtype=np.float64)\n",
    "rf_pred_sample = np.array(rf_pred_sample, dtype=np.float64)\n",
    "dl_pred_sample = np.array(dl_pred_sample, dtype=np.float64)\n",
    "\n",
    "\n",
    "m = folium.Map(location=[x_sample[0][5], x_sample[0][6]], zoom_start=5, width=600, height=600)\n",
    "folium.Circle(location=[x_sample[0][5], x_sample[0][6]],\n",
    "             radius=x_sample[0][11]*1852,  #  nautical mile to meter\n",
    "             fill=True,\n",
    "             color=\"black\",\n",
    "             fill_color=\"yellow\")#.add_to(m)\n",
    "folium.Circle(location=[x_sample[1][5], x_sample[1][6]],\n",
    "             radius=x_sample[1][11]*1852,  #  nautical mile to meter\n",
    "             fill=True,\n",
    "             color=\"black\",\n",
    "             fill_color=\"yellow\")#.add_to(m)\n",
    "folium.Circle(location=[y_sample[0], y_sample[1]],\n",
    "             radius=y_sample[-2]*1852,  #  nautical mile to meter\n",
    "             fill=True,\n",
    "             color=\"purple\",\n",
    "             fill_color=\"orange\").add_to(m)\n",
    "\n",
    "folium.Circle(location=[lr_pred_sample[0], lr_pred_sample[1]],\n",
    "             radius=lr_pred_sample[-2]*1852,  #  nautical mile to meter\n",
    "             fill=True,\n",
    "             color=\"blue\",\n",
    "             fill_color=\"red\").add_to(m)\n",
    "folium.Circle(location=[rf_pred_sample[0], rf_pred_sample[1]],\n",
    "             radius=rf_pred_sample[-2]*1852,  #  nautical mile to meter\n",
    "             fill=True,\n",
    "             color=\"green\",\n",
    "             fill_color=\"red\").add_to(m)\n",
    "folium.Circle(location=[dl_pred_sample[0], dl_pred_sample[1]],\n",
    "             radius=dl_pred_sample[-2]*1852,  #  nautical mile to meter\n",
    "             fill=True,\n",
    "             color=\"black\",\n",
    "             fill_color=\"red\").add_to(m)\n",
    "m"
   ]
  },
  {
   "cell_type": "code",
   "execution_count": null,
   "id": "c93990cc-f223-4c67-89df-d607e72dcc12",
   "metadata": {},
   "outputs": [],
   "source": []
  }
 ],
 "metadata": {
  "kernelspec": {
   "display_name": "Python 3 (ipykernel)",
   "language": "python",
   "name": "python3"
  },
  "language_info": {
   "codemirror_mode": {
    "name": "ipython",
    "version": 3
   },
   "file_extension": ".py",
   "mimetype": "text/x-python",
   "name": "python",
   "nbconvert_exporter": "python",
   "pygments_lexer": "ipython3",
   "version": "3.11.0"
  }
 },
 "nbformat": 4,
 "nbformat_minor": 5
}
